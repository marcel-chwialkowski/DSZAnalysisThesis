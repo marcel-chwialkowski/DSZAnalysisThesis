{
 "cells": [
  {
   "cell_type": "markdown",
   "id": "b13b00e6",
   "metadata": {},
   "source": [
    "# Experiments on the ACAS Xu benchmarks\n",
    "This is an extended version of the ACAS Xu notebook provided in https://github.com/sputot/DSZAnalysis/. Our contribution is the empirical propagation approach for property satisfaction. \n",
    "\n",
    "The networks (in .nnet format) and properties are taken from https://github.com/guykatzz/ReluplexCav2017/tree/master/nnet \n",
    "(also available at onnx format with properties at https://github.com/stanleybak/vnncomp2021/tree/main/benchmarks/acasxu) \n",
    "\n",
    "Convert in Julia file by jupyter nbconvert --to script ACASXu.ipynb"
   ]
  },
  {
   "cell_type": "code",
   "execution_count": null,
   "id": "79a4b13f",
   "metadata": {},
   "outputs": [],
   "source": [
    "include(\"../src/DSI.jl\")\n",
    "include(\"../src/Zono_utils.jl\")\n",
    "include(\"../src/PZono.jl\")\n",
    "include(\"../src/DSZ.jl\")\n",
    "include(\"../src/propagation.jl\")"
   ]
  },
  {
   "cell_type": "code",
   "execution_count": null,
   "id": "c6cc4229",
   "metadata": {},
   "outputs": [],
   "source": [
    "using PyPlot"
   ]
  },
  {
   "cell_type": "markdown",
   "id": "4fcd622c",
   "metadata": {},
   "source": [
    "## Specifying input ranges, networks and properties"
   ]
  },
  {
   "cell_type": "code",
   "execution_count": null,
   "id": "037dd1c5",
   "metadata": {},
   "outputs": [],
   "source": [
    "# from https://github.com/stanleybak/vnncomp2021/blob/main/benchmarks/acasxu/generate.py\n",
    "\n",
    "init_lb_prop_1_2 = [55947.691, -pi, -pi, 1145, 0]\n",
    "init_ub_prop_1_2 = [60760, pi, pi, 1200, 60]\n",
    "acas_input_1_2 = interval.(init_lb_prop_1_2,init_ub_prop_1_2)\n",
    "\n",
    "init_lb_prop_3 = [1500, -0.06, 3.1, 980, 960]\n",
    "init_ub_prop_3 = [1800, 0.06, pi, 1200, 1200]\n",
    "acas_input_3 = interval.(init_lb_prop_3,init_ub_prop_3)\n",
    "    \n",
    "init_lb_prop_4 = [1500, -0.06, 0, 1000, 700]\n",
    "init_ub_prop_4 = [1800, 0.06, 0, 1200, 800]\n",
    "acas_input_4 = interval.(init_lb_prop_4,init_ub_prop_4)\n",
    "\n",
    "init_lb_prop_5 = [250, 0.2, -3.141592, 100, 0]\n",
    "init_ub_prop_5 = [400, 0.4, -3.141592 + 0.005, 400, 400]\n",
    "acas_input_5 = interval.(init_lb_prop_5,init_ub_prop_5)\n",
    "\n",
    "init_lb_prop_61 = [12000, 0.7, -3.141592, 100, 0]\n",
    "init_ub_prop_61 = [62000, 3.141592, -3.141592 + 0.005, 1200, 1200]\n",
    "acas_input_61 = interval.(init_lb_prop_61,init_ub_prop_61)\n",
    "\n",
    "init_lb_prop_62 = [12000, -3.141592, -3.141592, 100, 0]\n",
    "init_ub_prop_62 = [62000, -0.7, -3.141592 + 0.005, 1200, 1200]\n",
    "acas_input_62 = interval.(init_lb_prop_62,init_ub_prop_62)\n",
    "\n",
    "init_lb_prop_7 = [0, -3.141592, -3.141592, 100, 0]\n",
    "init_ub_prop_7 = [60760, 3.141592, 3.141592, 1200, 1200]\n",
    "acas_input_7 = interval.(init_lb_prop_7,init_ub_prop_7)\n",
    "\n",
    "init_lb_prop_8 = [0, -3.141592, -0.1, 600, 600]\n",
    "init_ub_prop_8 = [60760, -0.75*3.141592, 0.1, 1200, 1200]\n",
    "acas_input_8 = interval.(init_lb_prop_8,init_ub_prop_8)\n",
    "\n",
    "init_lb_prop_9 = [2000, -0.4, -3.141592, 100, 0]\n",
    "init_ub_prop_9 = [7000, -0.14, -3.141592 + 0.01, 150, 150]\n",
    "acas_input_9 = interval.(init_lb_prop_9,init_ub_prop_9)\n",
    "\n",
    "#output labels = ['Clear of Conflict (COC)', 'Weak Left', 'Weak Right', 'Strong Left', 'Strong Right']\n",
    "\n",
    "\n",
    "function get_spec(prop::Int64)\n",
    "    if (prop == 2)\n",
    "        desc = \"Unsafe if COC is maximal\"\n",
    "        # Unsafe if y1 > y2 and y1 > y3 and y1 > y4 and y1 > y5\n",
    "        mat = [[-1. 1. 0. 0. 0.]\n",
    "               [-1. 0. 1. 0. 0.]\n",
    "               [-1. 0. 0. 1. 0.]\n",
    "               [-1. 0. 0. 0. 1.]]\n",
    "        rhs = [0., 0., 0., 0.]\n",
    "    elseif (prop == 3) || (prop == 4)\n",
    "        desc = \"Unsafe if COC is minimal\"\n",
    "        mat = [[1. -1. 0. 0. 0.]\n",
    "               [1. 0. -1. 0. 0.]\n",
    "               [1. 0. 0. -1. 0.]\n",
    "               [1. 0. 0. 0. -1.]]\n",
    "        rhs = [0., 0., 0., 0.]\n",
    "    end\n",
    "\n",
    "    return (desc, mat, rhs)\n",
    "end\n",
    "\n",
    "mat_spec_2 = get_spec(2)[2]\n",
    "rhs_spec_2 = get_spec(2)[3]\n",
    "mat_spec_3_4 = get_spec(3)[2]\n",
    "rhs_spec_3_4 = get_spec(3)[3]\n",
    "\n",
    "mat_essai_1 = [[-1. 1. 0. 0. 0.]\n",
    "[0. 0. 0. 0. 0.]\n",
    "[0. 0. 0. 0. 0.]\n",
    "[0. 0. 0. 0. 0.]]\n",
    "\n",
    "mat_essai_2 = [[0. 0. 0. 0. 0.]\n",
    "[-1. 0. 1. 0. 0.]\n",
    "[0. 0. 0. 0. 0.]\n",
    "[0. 0. 0. 0. 0.]]\n",
    "\n",
    "mat_essai_3 = [[0. 0. 0. 0. 0.]\n",
    "[0. 0. 0. 0. 0.]\n",
    "[-1. 0. 0. 1. 0.]\n",
    "[0. 0. 0. 0. 0.]]\n",
    "\n",
    "mat_essai_4 = [[0. 0. 0. 0. 0.]\n",
    "[0. 0. 0. 0. 0.]\n",
    "[0. 0. 0. 0. 0.]\n",
    "[-1. 0. 0. 0. 1.]]\n",
    "\n",
    "\n",
    "acas_nnet_1_2 = read_nnet(\"./ACASXU_networks/ACASXU_run2a_1_2_batch_2000.nnet\", last_layer_activation = Id());\n",
    "acas_nnet_1_3 = read_nnet(\"./ACASXU_networks/ACASXU_run2a_1_3_batch_2000.nnet\", last_layer_activation = Id());\n",
    "acas_nnet_1_4 = read_nnet(\"./ACASXU_networks/ACASXU_run2a_1_4_batch_2000.nnet\", last_layer_activation = Id());\n",
    "acas_nnet_1_5 = read_nnet(\"./ACASXU_networks/ACASXU_run2a_1_5_batch_2000.nnet\", last_layer_activation = Id());\n",
    "acas_nnet_1_6 = read_nnet(\"./ACASXU_networks/ACASXU_run2a_1_6_batch_2000.nnet\", last_layer_activation = Id());\n",
    "acas_nnet_2_2 = read_nnet(\"./ACASXU_networks/ACASXU_run2a_2_2_batch_2000.nnet\", last_layer_activation = Id());\n",
    "acas_nnet_2_9 = read_nnet(\"./ACASXU_networks/ACASXU_run2a_2_9_batch_2000.nnet\", last_layer_activation = Id());\n",
    "acas_nnet_3_1 = read_nnet(\"./ACASXU_networks/ACASXU_run2a_3_1_batch_2000.nnet\", last_layer_activation = Id());\n",
    "acas_nnet_3_6 = read_nnet(\"./ACASXU_networks/ACASXU_run2a_3_6_batch_2000.nnet\", last_layer_activation = Id());\n",
    "acas_nnet_3_7 = read_nnet(\"./ACASXU_networks/ACASXU_run2a_3_7_batch_2000.nnet\", last_layer_activation = Id());\n",
    "acas_nnet_4_1 = read_nnet(\"./ACASXU_networks/ACASXU_run2a_4_1_batch_2000.nnet\", last_layer_activation = Id());\n",
    "acas_nnet_4_7 = read_nnet(\"./ACASXU_networks/ACASXU_run2a_4_7_batch_2000.nnet\", last_layer_activation = Id());\n",
    "acas_nnet_5_3 = read_nnet(\"./ACASXU_networks/ACASXU_run2a_5_3_batch_2000.nnet\", last_layer_activation = Id());\n",
    "acas_nnet_1_7 = read_nnet(\"./ACASXU_networks/ACASXU_run2a_1_7_batch_2000.nnet\", last_layer_activation = Id());\n",
    "acas_nnet_1_9 = read_nnet(\"./ACASXU_networks/ACASXU_run2a_1_9_batch_2000.nnet\", last_layer_activation = Id());\n",
    "\n",
    "\n",
    "# Prop 2: x0 >= 0.6\n",
    "# x0 <= 0.6798577687\n",
    "# x1 >= -0.5\n",
    "# x1 <= 0.5\n",
    "# x2 >= -0.5\n",
    "# x2 <= 0.5\n",
    "# x3 >= 0.45\n",
    "# x3 <= 0.5\n",
    "# x4 >= -0.5\n",
    "# x4 <= -0.45\n",
    "# +y0 -y1 >= 0\n",
    "# +y0 -y2 >= 0\n",
    "# +y0 -y3 >= 0\n",
    "# +y0 -y4 >= 0\n",
    "\n",
    "init_lb_prop_1_2 = [0.6, -0.5, -0.5, 0.45, -0.5]\n",
    "init_ub_prop_1_2 = [0.6798577687, 0.5, 0.5, 0.5, -0.45]\n",
    "acas_input_1_2 = interval.(init_lb_prop_1_2,init_ub_prop_1_2)\n",
    "\n",
    "# Prop 3:\n",
    "# x0 >= -0.3035311561\n",
    "# x0 <= -0.2985528119\n",
    "# x1 >= -0.0095492966\n",
    "# x1 <= 0.0095492966\n",
    "# x2 >= 0.4933803236\n",
    "# x2 <= 0.5\n",
    "# x3 >= 0.3\n",
    "# x3 <= 0.5\n",
    "# x4 >= 0.3\n",
    "# x4 <= 0.5\n",
    "# +y0 -y1 <= 0\n",
    "# +y0 -y2 <= 0\n",
    "# +y0 -y3 <= 0\n",
    "# +y0 -y4 <= 0\n",
    "\n",
    "init_lb_prop_3 = [-0.3035311561, -0.0095492966, 0.4933803236, 0.3, 0.3]\n",
    "init_ub_prop_3 = [-0.2985528119, 0.0095492966, 0.5, 0.5, 0.5]\n",
    "acas_input_3 = interval.(init_lb_prop_3,init_ub_prop_3)\n",
    "\n",
    "# Prop4:\n",
    "# x0 >= -0.3035311561\n",
    "# x0 <= -0.2985528119\n",
    "# x1 >= -0.0095492966\n",
    "# x1 <= 0.0095492966\n",
    "# x2 >= 0\n",
    "# x2 <= 0\n",
    "# x3 >= 0.3181818182\n",
    "# x3 <= 0.5\n",
    "# x4 >= 0.0833333333\n",
    "# x4 <= 0.1666666667\n",
    "# +y0 -y1 <= 0\n",
    "# +y0 -y2 <= 0\n",
    "# +y0 -y3 <= 0\n",
    "# +y0 -y4 <= 0\n",
    "\n",
    "init_lb_prop_4 = [-0.3035311561, -0.0095492966, 0.0, 0.3181818182, 0.0833333333]\n",
    "init_ub_prop_4 = [-0.2985528119, 0.0095492966,0.0, 0.5, 0.1666666667]\n",
    "acas_input_4 = interval.(init_lb_prop_4,init_ub_prop_4)\n"
   ]
  },
  {
   "cell_type": "markdown",
   "id": "a1d29b9c",
   "metadata": {},
   "source": [
    "## Setup for empirical propagation"
   ]
  },
  {
   "cell_type": "code",
   "execution_count": null,
   "id": "cf334067",
   "metadata": {},
   "outputs": [],
   "source": [
    "means_inputs = (init_ub_prop_1_2 .+ init_lb_prop_1_2) ./ 2\n",
    "std_inputs = (init_ub_prop_1_2 .- means_inputs) ./ 3\n",
    "init_range = init_ub_prop_1_2 .- init_lb_prop_1_2\n",
    "input_boxes_desc = [([means_inputs[i] - 0.001 * init_range[i], means_inputs[i] + 0.001 * init_range[i]], std_inputs[i]) for i in 1:5]\n",
    "input_boxes = [normal(interval(input_boxes_desc[i][1][1], input_boxes_desc[i][1][2]), input_boxes_desc[i][2]) for i in 1:5]\n"
   ]
  },
  {
   "cell_type": "markdown",
   "id": "0da3b1f7-bdb6-4f05-9b3b-fad148d6d0a8",
   "metadata": {},
   "source": [
    "Generate samples from input random vectors:"
   ]
  },
  {
   "cell_type": "code",
   "execution_count": null,
   "id": "e43df83f",
   "metadata": {
    "scrolled": true
   },
   "outputs": [],
   "source": [
    "psamples = gaussian_samples(input_boxes_desc, 1000, 0.00005)"
   ]
  },
  {
   "cell_type": "markdown",
   "id": "6f48f795-1558-4cc3-88f7-e50c47b3d930",
   "metadata": {},
   "source": [
    "Display how big each input covering is:"
   ]
  },
  {
   "cell_type": "code",
   "execution_count": null,
   "id": "955652c4",
   "metadata": {},
   "outputs": [],
   "source": [
    "for i in 1:length(psamples)\n",
    "    println(size(psamples[i]))\n",
    "end"
   ]
  },
  {
   "cell_type": "markdown",
   "id": "fdb1eb3a-11fb-4b10-b0b7-ab4e08000c33",
   "metadata": {},
   "source": [
    "## (Optional) setup multithreaded julia environment"
   ]
  },
  {
   "cell_type": "markdown",
   "id": "185004e7-a49c-450a-88df-0abe15bdf8c7",
   "metadata": {},
   "source": [
    "Useful for running the below function. Restarting the notebook is needed after running."
   ]
  },
  {
   "cell_type": "code",
   "execution_count": null,
   "id": "ca2eaa6e-abad-42ce-b90a-a8074f550ad0",
   "metadata": {},
   "outputs": [],
   "source": [
    "using IJulia\n",
    "installkernel(\"Julia (11 threads)\", env=Dict(\"JULIA_NUM_THREADS\"=>\"11\"))\n",
    "Threads.nthreads()"
   ]
  },
  {
   "cell_type": "markdown",
   "id": "d09f25e4-c944-4d2f-a2cd-5baf50b19f5e",
   "metadata": {},
   "source": [
    "Check if it works:"
   ]
  },
  {
   "cell_type": "code",
   "execution_count": null,
   "id": "d993e70b-a9e0-410c-942a-87392964f3d1",
   "metadata": {},
   "outputs": [],
   "source": [
    "Threads.nthreads()"
   ]
  },
  {
   "cell_type": "markdown",
   "id": "b41d7bdf-5326-4ae1-bd46-65057e10eb1a",
   "metadata": {},
   "source": [
    "## Empirical propagation"
   ]
  },
  {
   "cell_type": "markdown",
   "id": "784751db-d525-40bd-a359-b9de5fe7558c",
   "metadata": {},
   "source": [
    "Choose which network to run for."
   ]
  },
  {
   "cell_type": "code",
   "execution_count": null,
   "id": "c9d743ef",
   "metadata": {
    "scrolled": true
   },
   "outputs": [],
   "source": [
    "outps = propagate_gaussians_multhread(psamples, acas_nnet_5_3, 1000)"
   ]
  },
  {
   "cell_type": "code",
   "execution_count": null,
   "id": "4c8fc7d7-f498-444c-b40c-567dda2ebdc2",
   "metadata": {},
   "outputs": [],
   "source": [
    "mat1 = [-1 0; 0 -1]\n",
    "a = [1,-1]\n",
    "y = [0,0]\n",
    "println(all(mat1 * a .< y))\n",
    "println(mat1 * a)"
   ]
  },
  {
   "cell_type": "code",
   "execution_count": null,
   "id": "01bbe368-48ce-48bc-aa1e-a85cbb078f50",
   "metadata": {},
   "outputs": [],
   "source": [
    "mat =[-1.0 1.0 0.0 0.0 0.0;\n",
    "      -1.0 0.0 1.0 0.0 0.0;\n",
    "      -1.0 0.0 0.0 1.0 0.0;\n",
    "      -1.0 0.0 0.0 0.0 1.0]\n",
    "mat_2 = [1. -1. 0. 0. 0.\n",
    "     1.  0. -1. 0. 0.\n",
    "     1.  0.  0. -1. 0.\n",
    "     1.  0.  0.  0. -1.]\n",
    "rhs = [0.0, 0.0, 0.0, 0.0]\n",
    "x = check_property(outps, mat, rhs)"
   ]
  },
  {
   "cell_type": "markdown",
   "id": "18fcf1a0-a1bb-4f9d-ad7d-002fd135bbbb",
   "metadata": {},
   "source": [
    "The code below can be ran to recreate all experiments at once, however the Julia kernel tends to die, probably due to running out of memory. "
   ]
  },
  {
   "cell_type": "code",
   "execution_count": null,
   "id": "ec2be4ef-d2b9-490b-b835-de3ce8afe259",
   "metadata": {
    "scrolled": true
   },
   "outputs": [],
   "source": [
    "outps_1_6 = propagate_gaussians_multhread(psamples, acas_nnet_1_6, 1000)\n",
    "outps_2_2 = propagate_gaussians_multhread(psamples, acas_nnet_2_2, 1000)\n",
    "outps_2_9 = propagate_gaussians_multhread(psamples, acas_nnet_2_9, 1000)\n",
    "outps_3_1 = propagate_gaussians_multhread(psamples, acas_nnet_3_1, 1000)\n",
    "outps_3_6 = propagate_gaussians_multhread(psamples, acas_nnet_3_6, 1000)\n",
    "outps_3_7 = propagate_gaussians_multhread(psamplespoint1, acas_nnet_3_7, 200)\n",
    "outps_4_1 = propagate_gaussians_multhread(psamplespoint1, acas_nnet_4_1, 200)\n",
    "outps_4_7 = propagate_gaussians_multhread(psamplespoint1, acas_nnet_4_7, 200)\n",
    "outps_5_3 = propagate_gaussians_multhread(psamplespoint1, acas_nnet_5_3, 200)"
   ]
  },
  {
   "cell_type": "code",
   "execution_count": null,
   "id": "da649958-14e8-4b48-be8c-5034429f500c",
   "metadata": {},
   "outputs": [],
   "source": [
    "chprop1_6 = check_property(outps_1_6, mat, rhs)\n",
    "println(\"1_6\", chprop1_6)\n",
    "chprop2_2 = check_property(outps_2_2, mat, rhs)\n",
    "println(\"2_2\", chprop2_2)\n",
    "chprop2_9 = check_property(outps_2_9, mat, rhs)\n",
    "println(\"2_9\", chprop2_9)\n",
    "chprop3_1 = check_property(outps_3_1, mat, rhs)\n",
    "println(\"3_1\", chprop3_1)\n",
    "chprop3_6 = check_property(outps_3_6, mat, rhs)\n",
    "println(\"3_6\", chprop3_6)\n",
    "chprop3_7 = check_property(outps_3_7, mat, rhs)\n",
    "println(chprop3_7)\n",
    "chprop4_1 = check_property(outps_4_1, mat, rhs)\n",
    "println(chprop4_1)\n",
    "chprop4_7 = check_property(outps_4_7, mat, rhs)\n",
    "println(chprop4_7)\n",
    "chprop5_3 = check_property(outps_5_3, mat, rhs)\n",
    "println(chprop5_3)"
   ]
  },
  {
   "cell_type": "markdown",
   "id": "e4afec2b",
   "metadata": {},
   "source": [
    "## DSZ Analysis"
   ]
  },
  {
   "cell_type": "code",
   "execution_count": null,
   "id": "2238b2a0",
   "metadata": {},
   "outputs": [],
   "source": [
    "# Defining the number of focal element for each component of the input vector for Property 2\n",
    "vect_nb_focal_elem = [5, 80, 50, 6, 5]\n",
    "println(\"vect_nb_focal_elem for Property 2 = \",vect_nb_focal_elem,\":\")\n",
    "# the true flag in init_pbox_Normal means truncating the focal elements to restrict the range to [lb,ub]\n",
    "acas_inputpbox_1_2 = init_pbox_Normal(init_lb_prop_1_2,init_ub_prop_1_2,vect_nb_focal_elem,true)\n"
   ]
  },
  {
   "cell_type": "code",
   "execution_count": null,
   "id": "c35db142",
   "metadata": {
    "scrolled": true
   },
   "outputs": [],
   "source": [
    "@time vec_proba = dsz_approximate_nnet_and_condition_nostorage(acas_nnet_1_6, acas_inputpbox_1_2, mat_spec_2,rhs_spec_2) \n",
    "println(\"Property 2, net-1-6 : \", vec_proba[length(vec_proba)])\n",
    "\n",
    "\n",
    "@time vec_proba = dsz_approximate_nnet_and_condition_nostorage(acas_nnet_2_2, acas_inputpbox_1_2, mat_spec_2,rhs_spec_2)\n",
    "println(\"Property 2, net-2-2 : \", vec_proba[length(vec_proba)])\n",
    "\n",
    "\n",
    "@time vec_proba = dsz_approximate_nnet_and_condition_nostorage(acas_nnet_2_9, acas_inputpbox_1_2, mat_spec_2,rhs_spec_2) \n",
    "println(\"Property 2, net-2-9 : \", vec_proba[length(vec_proba)])\n",
    "\n",
    "\n",
    "@time vec_proba = dsz_approximate_nnet_and_condition_nostorage(acas_nnet_3_1, acas_inputpbox_1_2, mat_spec_2,rhs_spec_2) \n",
    "println(\"Property 2, net-3-1 : \", vec_proba[length(vec_proba)])\n",
    "\n",
    "\n",
    "@time vec_proba = dsz_approximate_nnet_and_condition_nostorage(acas_nnet_3_6, acas_inputpbox_1_2, mat_spec_2,rhs_spec_2) \n",
    "println(\"Property 2, net-3-6 : \", vec_proba[length(vec_proba)])\n",
    "\n",
    "\n",
    "@time vec_proba = dsz_approximate_nnet_and_condition_nostorage(acas_nnet_3_7, acas_inputpbox_1_2, mat_spec_2,rhs_spec_2)\n",
    "println(\"Property 2, net-3-7 : \", vec_proba[length(vec_proba)])\n",
    "\n",
    "\n",
    "@time vec_proba = dsz_approximate_nnet_and_condition_nostorage(acas_nnet_4_1, acas_inputpbox_1_2, mat_spec_2,rhs_spec_2)\n",
    "println(\"Property 2, net-4-1 : \", vec_proba[length(vec_proba)])\n",
    "\n",
    "\n",
    "@time vec_proba = dsz_approximate_nnet_and_condition_nostorage(acas_nnet_4_7, acas_inputpbox_1_2, mat_spec_2,rhs_spec_2)\n",
    "println(\"Property 2, net-4-7 : \", vec_proba[length(vec_proba)])\n",
    "\n",
    "\n",
    "@time vec_proba = dsz_approximate_nnet_and_condition_nostorage(acas_nnet_5_3, acas_inputpbox_1_2, mat_spec_2,rhs_spec_2)\n",
    "println(\"Property 2, net-5-3 : \", vec_proba[length(vec_proba)])\n",
    "     "
   ]
  },
  {
   "cell_type": "markdown",
   "id": "6256e8f2",
   "metadata": {},
   "source": [
    "### Properties 3 and 4"
   ]
  },
  {
   "cell_type": "code",
   "execution_count": null,
   "id": "d00be161",
   "metadata": {},
   "outputs": [],
   "source": [
    "# Defining the number of focal element for each component of the input vector for Properties 3 and 4\n",
    "vect_nb_focal_elem = [5, 20, 1, 6, 5]\n",
    "println(\"vect_nb_focal_elem for Properties 3 and 4 = \",vect_nb_focal_elem,\":\")\n",
    "acas_inputpbox_3 = init_pbox_Normal(init_lb_prop_3,init_ub_prop_3,vect_nb_focal_elem,true)\n",
    "\n",
    "\n",
    "@time vec_proba = dsz_approximate_nnet_and_condition_nostorage(acas_nnet_1_7, acas_inputpbox_3, mat_spec_3_4,rhs_spec_3_4) \n",
    "println(\"Property 3, net-1-7 : \", vec_proba[length(vec_proba)])"
   ]
  },
  {
   "cell_type": "code",
   "execution_count": null,
   "id": "f80687b5",
   "metadata": {},
   "outputs": [],
   "source": [
    "#vect_nb_focal_elem = [5, 20, 1, 6, 5] \n",
    "acas_inputpbox_4 = init_pbox_Normal(init_lb_prop_4,init_ub_prop_4,vect_nb_focal_elem,true)\n",
    "\n",
    "\n",
    "@time vec_proba = dsz_approximate_nnet_and_condition_nostorage(acas_nnet_1_9, acas_inputpbox_4, mat_spec_3_4,rhs_spec_3_4) \n",
    "println(\"Property 4, net-1-9 : \", vec_proba[length(vec_proba)])"
   ]
  },
  {
   "cell_type": "markdown",
   "id": "fc4306d1",
   "metadata": {},
   "source": [
    "### Heuristic refinement/optimization of focal element "
   ]
  },
  {
   "cell_type": "code",
   "execution_count": null,
   "id": "3c2bb42b",
   "metadata": {},
   "outputs": [],
   "source": [
    "#@time dsz_focal_refinement(acas_nnet_1_6,init_lb_prop_1_2,init_ub_prop_1_2, mat_spec_2,rhs_spec_2 , true, 0.05)"
   ]
  }
 ],
 "metadata": {
  "kernelspec": {
   "display_name": "Julia 1.11.2",
   "language": "julia",
   "name": "julia-1.11"
  },
  "language_info": {
   "file_extension": ".jl",
   "mimetype": "application/julia",
   "name": "julia",
   "version": "1.11.2"
  }
 },
 "nbformat": 4,
 "nbformat_minor": 5
}
