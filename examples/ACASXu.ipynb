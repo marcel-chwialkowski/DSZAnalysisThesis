{
 "cells": [
  {
   "cell_type": "markdown",
   "id": "b13b00e6",
   "metadata": {},
   "source": [
    "## Experiments on the ACAS Xu benchmarks\n",
    "\n",
    "The networks (in .nnet format) and properties are taken from https://github.com/guykatzz/ReluplexCav2017/tree/master/nnet \n",
    "(also available at onnx format with properties at https://github.com/stanleybak/vnncomp2021/tree/main/benchmarks/acasxu) \n",
    "\n",
    "Convert in Julia file by jupyter nbconvert --to script ACASXu.ipynb"
   ]
  },
  {
   "cell_type": "code",
   "execution_count": 1,
   "id": "79a4b13f",
   "metadata": {},
   "outputs": [
    {
     "name": "stderr",
     "output_type": "stream",
     "text": [
      "\u001b[32m\u001b[1m    Updating\u001b[22m\u001b[39m registry at `~/.julia/registries/General.toml`\n",
      "\u001b[32m\u001b[1m   Resolving\u001b[22m\u001b[39m package versions...\n",
      "\u001b[32m\u001b[1m  No Changes\u001b[22m\u001b[39m to `~/.julia/environments/v1.8/Project.toml`\n",
      "\u001b[32m\u001b[1m  No Changes\u001b[22m\u001b[39m to `~/.julia/environments/v1.8/Manifest.toml`\n",
      "\u001b[32m\u001b[1m   Resolving\u001b[22m\u001b[39m package versions...\n",
      "\u001b[32m\u001b[1m  No Changes\u001b[22m\u001b[39m to `~/.julia/environments/v1.8/Project.toml`\n",
      "\u001b[32m\u001b[1m  No Changes\u001b[22m\u001b[39m to `~/.julia/environments/v1.8/Manifest.toml`\n",
      "\u001b[32m\u001b[1m   Resolving\u001b[22m\u001b[39m package versions...\n",
      "\u001b[32m\u001b[1m  No Changes\u001b[22m\u001b[39m to `~/.julia/environments/v1.8/Project.toml`\n",
      "\u001b[32m\u001b[1m  No Changes\u001b[22m\u001b[39m to `~/.julia/environments/v1.8/Manifest.toml`\n",
      "\u001b[32m\u001b[1m   Resolving\u001b[22m\u001b[39m package versions...\n",
      "\u001b[32m\u001b[1m  No Changes\u001b[22m\u001b[39m to `~/.julia/environments/v1.8/Project.toml`\n",
      "\u001b[32m\u001b[1m  No Changes\u001b[22m\u001b[39m to `~/.julia/environments/v1.8/Manifest.toml`\n",
      "\u001b[32m\u001b[1m   Resolving\u001b[22m\u001b[39m package versions...\n",
      "\u001b[32m\u001b[1m  No Changes\u001b[22m\u001b[39m to `~/.julia/environments/v1.8/Project.toml`\n",
      "\u001b[32m\u001b[1m  No Changes\u001b[22m\u001b[39m to `~/.julia/environments/v1.8/Manifest.toml`\n"
     ]
    },
    {
     "data": {
      "text/plain": [
       "paf_focal_refinement_sauv (generic function with 1 method)"
      ]
     },
     "metadata": {},
     "output_type": "display_data"
    }
   ],
   "source": [
    "include(\"../src/Pbox_nn.jl\")\n",
    "include(\"../src/Sets_utils.jl\")\n",
    "include(\"../src/DSZ.jl\")"
   ]
  },
  {
   "cell_type": "markdown",
   "id": "4fcd622c",
   "metadata": {},
   "source": [
    "## Specifying input ranges, networks and properties"
   ]
  },
  {
   "cell_type": "code",
   "execution_count": 2,
   "id": "037dd1c5",
   "metadata": {},
   "outputs": [
    {
     "data": {
      "text/plain": [
       "5-element Vector{Interval{Float64}}:\n",
       "    [-0.303532, -0.298552]\n",
       "    [-0.0095493, 0.0095493]\n",
       " [0, 0]\n",
       "     [0.318181, 0.5]\n",
       "     [0.0833333, 0.166667]"
      ]
     },
     "metadata": {},
     "output_type": "display_data"
    }
   ],
   "source": [
    "# from https://github.com/stanleybak/vnncomp2021/blob/main/benchmarks/acasxu/generate.py\n",
    "\n",
    "init_lb_prop_1_2 = [55947.691, -pi, -pi, 1145, 0]\n",
    "init_ub_prop_1_2 = [60760, pi, pi, 1200, 60]\n",
    "acas_input_1_2 = interval.(init_lb_prop_1_2,init_ub_prop_1_2)\n",
    "\n",
    "init_lb_prop_3 = [1500, -0.06, 3.1, 980, 960]\n",
    "init_ub_prop_3 = [1800, 0.06, pi, 1200, 1200]\n",
    "acas_input_3 = interval.(init_lb_prop_3,init_ub_prop_3)\n",
    "    \n",
    "init_lb_prop_4 = [1500, -0.06, 0, 1000, 700]\n",
    "init_ub_prop_4 = [1800, 0.06, 0, 1200, 800]\n",
    "acas_input_4 = interval.(init_lb_prop_4,init_ub_prop_4)\n",
    "\n",
    "init_lb_prop_5 = [250, 0.2, -3.141592, 100, 0]\n",
    "init_ub_prop_5 = [400, 0.4, -3.141592 + 0.005, 400, 400]\n",
    "acas_input_5 = interval.(init_lb_prop_5,init_ub_prop_5)\n",
    "\n",
    "init_lb_prop_61 = [12000, 0.7, -3.141592, 100, 0]\n",
    "init_ub_prop_61 = [62000, 3.141592, -3.141592 + 0.005, 1200, 1200]\n",
    "acas_input_61 = interval.(init_lb_prop_61,init_ub_prop_61)\n",
    "\n",
    "init_lb_prop_62 = [12000, -3.141592, -3.141592, 100, 0]\n",
    "init_ub_prop_62 = [62000, -0.7, -3.141592 + 0.005, 1200, 1200]\n",
    "acas_input_62 = interval.(init_lb_prop_62,init_ub_prop_62)\n",
    "\n",
    "init_lb_prop_7 = [0, -3.141592, -3.141592, 100, 0]\n",
    "init_ub_prop_7 = [60760, 3.141592, 3.141592, 1200, 1200]\n",
    "acas_input_7 = interval.(init_lb_prop_7,init_ub_prop_7)\n",
    "\n",
    "init_lb_prop_8 = [0, -3.141592, -0.1, 600, 600]\n",
    "init_ub_prop_8 = [60760, -0.75*3.141592, 0.1, 1200, 1200]\n",
    "acas_input_8 = interval.(init_lb_prop_8,init_ub_prop_8)\n",
    "\n",
    "init_lb_prop_9 = [2000, -0.4, -3.141592, 100, 0]\n",
    "init_ub_prop_9 = [7000, -0.14, -3.141592 + 0.01, 150, 150]\n",
    "acas_input_9 = interval.(init_lb_prop_9,init_ub_prop_9)\n",
    "\n",
    "#output labels = ['Clear of Conflict (COC)', 'Weak Left', 'Weak Right', 'Strong Left', 'Strong Right']\n",
    "\n",
    "\n",
    "function get_spec(prop::Int64)\n",
    "    if (prop == 2)\n",
    "        desc = \"Unsafe if COC is maximal\"\n",
    "        # Unsafe if y1 > y2 and y1 > y3 and y1 > y4 and y1 > y5\n",
    "        mat = [[-1. 1. 0. 0. 0.]\n",
    "               [-1. 0. 1. 0. 0.]\n",
    "               [-1. 0. 0. 1. 0.]\n",
    "               [-1. 0. 0. 0. 1.]]\n",
    "        rhs = [0., 0., 0., 0.]\n",
    "    elseif (prop == 3) || (prop == 4)\n",
    "        desc = \"Unsafe if COC is minimal\"\n",
    "        mat = [[1. -1. 0. 0. 0.]\n",
    "               [1. 0. -1. 0. 0.]\n",
    "               [1. 0. 0. -1. 0.]\n",
    "               [1. 0. 0. 0. -1.]]\n",
    "        rhs = [0., 0., 0., 0.]\n",
    "    end\n",
    "\n",
    "    return (desc, mat, rhs)\n",
    "end\n",
    "\n",
    "mat_spec_2 = get_spec(2)[2]\n",
    "rhs_spec_2 = get_spec(2)[3]\n",
    "mat_spec_3_4 = get_spec(3)[2]\n",
    "rhs_spec_3_4 = get_spec(3)[3]\n",
    "\n",
    "mat_essai_1 = [[-1. 1. 0. 0. 0.]\n",
    "[0. 0. 0. 0. 0.]\n",
    "[0. 0. 0. 0. 0.]\n",
    "[0. 0. 0. 0. 0.]]\n",
    "\n",
    "mat_essai_2 = [[0. 0. 0. 0. 0.]\n",
    "[-1. 0. 1. 0. 0.]\n",
    "[0. 0. 0. 0. 0.]\n",
    "[0. 0. 0. 0. 0.]]\n",
    "\n",
    "mat_essai_3 = [[0. 0. 0. 0. 0.]\n",
    "[0. 0. 0. 0. 0.]\n",
    "[-1. 0. 0. 1. 0.]\n",
    "[0. 0. 0. 0. 0.]]\n",
    "\n",
    "mat_essai_4 = [[0. 0. 0. 0. 0.]\n",
    "[0. 0. 0. 0. 0.]\n",
    "[0. 0. 0. 0. 0.]\n",
    "[-1. 0. 0. 0. 1.]]\n",
    "\n",
    "\n",
    "acas_nnet_1_2 = read_nnet(\"./ACASXU_networks/ACASXU_run2a_1_2_batch_2000.nnet\", last_layer_activation = Id());\n",
    "acas_nnet_1_3 = read_nnet(\"./ACASXU_networks/ACASXU_run2a_1_3_batch_2000.nnet\", last_layer_activation = Id());\n",
    "acas_nnet_1_4 = read_nnet(\"./ACASXU_networks/ACASXU_run2a_1_4_batch_2000.nnet\", last_layer_activation = Id());\n",
    "acas_nnet_1_5 = read_nnet(\"./ACASXU_networks/ACASXU_run2a_1_5_batch_2000.nnet\", last_layer_activation = Id());\n",
    "acas_nnet_1_6 = read_nnet(\"./ACASXU_networks/ACASXU_run2a_1_6_batch_2000.nnet\", last_layer_activation = Id());\n",
    "acas_nnet_2_2 = read_nnet(\"./ACASXU_networks/ACASXU_run2a_2_2_batch_2000.nnet\", last_layer_activation = Id());\n",
    "acas_nnet_2_9 = read_nnet(\"./ACASXU_networks/ACASXU_run2a_2_9_batch_2000.nnet\", last_layer_activation = Id());\n",
    "acas_nnet_3_1 = read_nnet(\"./ACASXU_networks/ACASXU_run2a_3_1_batch_2000.nnet\", last_layer_activation = Id());\n",
    "acas_nnet_3_6 = read_nnet(\"./ACASXU_networks/ACASXU_run2a_3_6_batch_2000.nnet\", last_layer_activation = Id());\n",
    "acas_nnet_3_7 = read_nnet(\"./ACASXU_networks/ACASXU_run2a_3_7_batch_2000.nnet\", last_layer_activation = Id());\n",
    "acas_nnet_4_1 = read_nnet(\"./ACASXU_networks/ACASXU_run2a_4_1_batch_2000.nnet\", last_layer_activation = Id());\n",
    "acas_nnet_4_7 = read_nnet(\"./ACASXU_networks/ACASXU_run2a_4_7_batch_2000.nnet\", last_layer_activation = Id());\n",
    "acas_nnet_5_3 = read_nnet(\"./ACASXU_networks/ACASXU_run2a_5_3_batch_2000.nnet\", last_layer_activation = Id());\n",
    "acas_nnet_1_7 = read_nnet(\"./ACASXU_networks/ACASXU_run2a_1_7_batch_2000.nnet\", last_layer_activation = Id());\n",
    "acas_nnet_1_9 = read_nnet(\"./ACASXU_networks/ACASXU_run2a_1_9_batch_2000.nnet\", last_layer_activation = Id());\n",
    "\n",
    "\n",
    "# Prop 2: x0 >= 0.6\n",
    "# x0 <= 0.6798577687\n",
    "# x1 >= -0.5\n",
    "# x1 <= 0.5\n",
    "# x2 >= -0.5\n",
    "# x2 <= 0.5\n",
    "# x3 >= 0.45\n",
    "# x3 <= 0.5\n",
    "# x4 >= -0.5\n",
    "# x4 <= -0.45\n",
    "# +y0 -y1 >= 0\n",
    "# +y0 -y2 >= 0\n",
    "# +y0 -y3 >= 0\n",
    "# +y0 -y4 >= 0\n",
    "\n",
    "init_lb_prop_1_2 = [0.6, -0.5, -0.5, 0.45, -0.5]\n",
    "init_ub_prop_1_2 = [0.6798577687, 0.5, 0.5, 0.5, -0.45]\n",
    "acas_input_1_2 = interval.(init_lb_prop_1_2,init_ub_prop_1_2)\n",
    "\n",
    "# Prop 3:\n",
    "# x0 >= -0.3035311561\n",
    "# x0 <= -0.2985528119\n",
    "# x1 >= -0.0095492966\n",
    "# x1 <= 0.0095492966\n",
    "# x2 >= 0.4933803236\n",
    "# x2 <= 0.5\n",
    "# x3 >= 0.3\n",
    "# x3 <= 0.5\n",
    "# x4 >= 0.3\n",
    "# x4 <= 0.5\n",
    "# +y0 -y1 <= 0\n",
    "# +y0 -y2 <= 0\n",
    "# +y0 -y3 <= 0\n",
    "# +y0 -y4 <= 0\n",
    "\n",
    "init_lb_prop_3 = [-0.3035311561, -0.0095492966, 0.4933803236, 0.3, 0.3]\n",
    "init_ub_prop_3 = [-0.2985528119, 0.0095492966, 0.5, 0.5, 0.5]\n",
    "acas_input_3 = interval.(init_lb_prop_3,init_ub_prop_3)\n",
    "\n",
    "# Prop4:\n",
    "# x0 >= -0.3035311561\n",
    "# x0 <= -0.2985528119\n",
    "# x1 >= -0.0095492966\n",
    "# x1 <= 0.0095492966\n",
    "# x2 >= 0\n",
    "# x2 <= 0\n",
    "# x3 >= 0.3181818182\n",
    "# x3 <= 0.5\n",
    "# x4 >= 0.0833333333\n",
    "# x4 <= 0.1666666667\n",
    "# +y0 -y1 <= 0\n",
    "# +y0 -y2 <= 0\n",
    "# +y0 -y3 <= 0\n",
    "# +y0 -y4 <= 0\n",
    "\n",
    "init_lb_prop_4 = [-0.3035311561, -0.0095492966, 0.0, 0.3181818182, 0.0833333333]\n",
    "init_ub_prop_4 = [-0.2985528119, 0.0095492966,0.0, 0.5, 0.1666666667]\n",
    "acas_input_4 = interval.(init_lb_prop_4,init_ub_prop_4)\n"
   ]
  },
  {
   "cell_type": "markdown",
   "id": "a1d29b9c",
   "metadata": {},
   "source": [
    "## DSZ Analysis"
   ]
  },
  {
   "cell_type": "markdown",
   "id": "e4afec2b",
   "metadata": {},
   "source": [
    "### Property 2"
   ]
  },
  {
   "cell_type": "code",
   "execution_count": 3,
   "id": "2238b2a0",
   "metadata": {},
   "outputs": [
    {
     "name": "stdout",
     "output_type": "stream",
     "text": [
      "vect_nb_focal_elem for Property 2 = [5, 80, 50, 6, 5]:\n"
     ]
    },
    {
     "data": {
      "text/plain": [
       "5-element Vector{pbox}:\n",
       " Pbox: \t  ~ normal ( range=[0.6, 0.67986], mean=0.63993, var=0.00017715)\n",
       " Pbox: \t  ~ normal ( range=[-0.5, 0.5], mean=0.0, var=0.027778)\n",
       " Pbox: \t  ~ normal ( range=[-0.5, 0.5], mean=0.0, var=0.027778)\n",
       " Pbox: \t  ~ normal ( range=[0.45, 0.5], mean=0.475, var=6.9444e-5)\n",
       " Pbox: \t  ~ normal ( range=[-0.5, -0.45], mean=-0.475, var=6.9444e-5)"
      ]
     },
     "metadata": {},
     "output_type": "display_data"
    }
   ],
   "source": [
    "# Defining the number of focal element for each component of the input vector for Property 2\n",
    "vect_nb_focal_elem = [5, 80, 50, 6, 5]\n",
    "println(\"vect_nb_focal_elem for Property 2 = \",vect_nb_focal_elem,\":\")\n",
    "# the true flag in init_pbox_Normal means truncating the focal elements to restrict the range to [lb,ub]\n",
    "acas_inputpbox_1_2 = init_pbox_Normal(init_lb_prop_1_2,init_ub_prop_1_2,vect_nb_focal_elem,true)"
   ]
  },
  {
   "cell_type": "code",
   "execution_count": 4,
   "id": "c35db142",
   "metadata": {},
   "outputs": [
    {
     "name": "stdout",
     "output_type": "stream",
     "text": [
      "Property 2, net-1-6 :\n",
      "Number of zonotopic focal elements=600000\n",
      "Probability : [0, 0.0199884]\n",
      " 49.622368 seconds (98.81 M allocations: 53.059 GiB, 26.57% gc time, 2.90% compilation time)\n",
      "Property 2, net-2-2 :\n",
      "Number of zonotopic focal elements=600000\n",
      "Probability : [0.00423499, 0.0808967]\n",
      " 49.326549 seconds (94.72 M allocations: 55.679 GiB, 27.12% gc time)\n",
      "Property 2, net-2-9 :\n",
      "Number of zonotopic focal elements=600000\n",
      "Probability : [0, 0.0774684]\n",
      " 54.966083 seconds (95.30 M allocations: 59.746 GiB, 27.26% gc time)\n",
      "Property 2, net-3-1 :\n",
      "Number of zonotopic focal elements=600000\n",
      "Probability : [0.0164666, 0.0878734]\n",
      " 44.923243 seconds (94.54 M allocations: 48.860 GiB, 27.33% gc time)\n",
      "Property 2, net-3-6 :\n",
      "Number of zonotopic focal elements=600000\n",
      "Probability : [0.0167383, 0.111137]\n",
      " 54.313320 seconds (97.13 M allocations: 59.857 GiB, 26.85% gc time)\n",
      "Property 2, net-3-7 :\n",
      "Number of zonotopic focal elements=600000\n",
      "Probability : [5.99999e-05, 0.136119]\n",
      " 46.511809 seconds (96.97 M allocations: 57.897 GiB, 26.63% gc time)\n",
      "Property 2, net-4-1 :\n",
      "Number of zonotopic focal elements=600000\n",
      "Probability : [9.99999e-06, 0.0535317]\n",
      " 43.367627 seconds (93.96 M allocations: 52.732 GiB, 25.75% gc time)\n",
      "Property 2, net-4-7 :\n",
      "Number of zonotopic focal elements=600000\n",
      "Probability : [0.0128916, 0.105586]\n",
      " 45.440842 seconds (95.26 M allocations: 57.717 GiB, 26.17% gc time)\n",
      "Property 2, net-5-3 :\n",
      "Number of zonotopic focal elements=600000\n",
      "Probability : [0, 0.0393934]\n",
      " 40.587019 seconds (95.35 M allocations: 49.219 GiB, 26.55% gc time)\n"
     ]
    },
    {
     "data": {
      "text/plain": [
       "[0, 0.0393934]"
      ]
     },
     "metadata": {},
     "output_type": "display_data"
    }
   ],
   "source": [
    "println(\"Property 2, net-1-6 :\")\n",
    "@time dsz_approximate_nnet_and_condition_nostorage(acas_nnet_1_6, acas_inputpbox_1_2, mat_spec_2,rhs_spec_2) \n",
    "\n",
    "println(\"Property 2, net-2-2 :\")\n",
    "@time dsz_approximate_nnet_and_condition_nostorage(acas_nnet_2_2, acas_inputpbox_1_2, mat_spec_2,rhs_spec_2)\n",
    "\n",
    "println(\"Property 2, net-2-9 :\")\n",
    "@time dsz_approximate_nnet_and_condition_nostorage(acas_nnet_2_9, acas_inputpbox_1_2, mat_spec_2,rhs_spec_2) \n",
    "\n",
    "println(\"Property 2, net-3-1 :\")\n",
    "@time dsz_approximate_nnet_and_condition_nostorage(acas_nnet_3_1, acas_inputpbox_1_2, mat_spec_2,rhs_spec_2) \n",
    "\n",
    "println(\"Property 2, net-3-6 :\")\n",
    "@time dsz_approximate_nnet_and_condition_nostorage(acas_nnet_3_6, acas_inputpbox_1_2, mat_spec_2,rhs_spec_2) \n",
    "\n",
    "println(\"Property 2, net-3-7 :\")\n",
    "@time dsz_approximate_nnet_and_condition_nostorage(acas_nnet_3_7, acas_inputpbox_1_2, mat_spec_2,rhs_spec_2)\n",
    "\n",
    "println(\"Property 2, net-4-1 :\")\n",
    "@time dsz_approximate_nnet_and_condition_nostorage(acas_nnet_4_1, acas_inputpbox_1_2, mat_spec_2,rhs_spec_2)\n",
    "\n",
    "println(\"Property 2, net-4-7 :\")\n",
    "@time dsz_approximate_nnet_and_condition_nostorage(acas_nnet_4_7, acas_inputpbox_1_2, mat_spec_2,rhs_spec_2)\n",
    "\n",
    "println(\"Property 2, net-5-3 :\")\n",
    "@time dsz_approximate_nnet_and_condition_nostorage(acas_nnet_5_3, acas_inputpbox_1_2, mat_spec_2,rhs_spec_2)"
   ]
  },
  {
   "cell_type": "markdown",
   "id": "6256e8f2",
   "metadata": {},
   "source": [
    "### Properties 3 and 4"
   ]
  },
  {
   "cell_type": "code",
   "execution_count": 5,
   "id": "d00be161",
   "metadata": {},
   "outputs": [
    {
     "name": "stdout",
     "output_type": "stream",
     "text": [
      "vect_nb_focal_elem for Properties 3 and 4 = [5, 20, 1, 6, 5]:\n",
      "Property 3, net-1-7 :\n",
      "Number of zonotopic focal elements=3000\n",
      "Probability : [1, 1]\n",
      "  0.227095 seconds (488.67 k allocations: 292.097 MiB, 28.29% gc time)\n"
     ]
    },
    {
     "data": {
      "text/plain": [
       "[1, 1]"
      ]
     },
     "metadata": {},
     "output_type": "display_data"
    }
   ],
   "source": [
    "# Defining the number of focal element for each component of the input vector for Properties 3 and 4\n",
    "vect_nb_focal_elem = [5, 20, 1, 6, 5]\n",
    "println(\"vect_nb_focal_elem for Properties 3 and 4 = \",vect_nb_focal_elem,\":\")\n",
    "acas_inputpbox_3 = init_pbox_Normal(init_lb_prop_3,init_ub_prop_3,vect_nb_focal_elem,true)\n",
    "\n",
    "println(\"Property 3, net-1-7 :\")\n",
    "@time dsz_approximate_nnet_and_condition_nostorage(acas_nnet_1_7, acas_inputpbox_3, mat_spec_3_4,rhs_spec_3_4) "
   ]
  },
  {
   "cell_type": "code",
   "execution_count": 6,
   "id": "f80687b5",
   "metadata": {},
   "outputs": [
    {
     "name": "stdout",
     "output_type": "stream",
     "text": [
      "Property 4, net-1-9 :\n",
      "Number of zonotopic focal elements=3000\n",
      "Probability : [1, 1]\n",
      "  0.201004 seconds (467.16 k allocations: 196.915 MiB, 36.25% gc time)\n"
     ]
    },
    {
     "data": {
      "text/plain": [
       "[1, 1]"
      ]
     },
     "metadata": {},
     "output_type": "display_data"
    }
   ],
   "source": [
    "#vect_nb_focal_elem = [5, 20, 1, 6, 5] \n",
    "acas_inputpbox_4 = init_pbox_Normal(init_lb_prop_4,init_ub_prop_4,vect_nb_focal_elem,true)\n",
    "\n",
    "println(\"Property 4, net-1-9 :\")\n",
    "@time dsz_approximate_nnet_and_condition_nostorage(acas_nnet_1_9, acas_inputpbox_4, mat_spec_3_4,rhs_spec_3_4) "
   ]
  }
 ],
 "metadata": {
  "kernelspec": {
   "display_name": "Julia 1.8.1",
   "language": "julia",
   "name": "julia-1.8"
  },
  "language_info": {
   "file_extension": ".jl",
   "mimetype": "application/julia",
   "name": "julia",
   "version": "1.8.1"
  }
 },
 "nbformat": 4,
 "nbformat_minor": 5
}
