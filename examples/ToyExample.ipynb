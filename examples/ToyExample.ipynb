{
 "cells": [
  {
   "cell_type": "markdown",
   "metadata": {},
   "source": [
    "# A toy example\n",
    "# Convert to Julia file by jupytext --to jl ToyExample.ipynb"
   ]
  },
  {
   "cell_type": "code",
   "execution_count": 37,
   "metadata": {},
   "outputs": [
    {
     "data": {
      "text/plain": [
       "dsz_focal_refinement (generic function with 1 method)"
      ]
     },
     "metadata": {},
     "output_type": "display_data"
    }
   ],
   "source": [
    "include(\"../src/DSI.jl\")\n",
    "include(\"../src/Zono_utils.jl\")\n",
    "include(\"../src/PZono.jl\")\n",
    "include(\"../src/DSZ.jl\")"
   ]
  },
  {
   "cell_type": "code",
   "execution_count": 38,
   "metadata": {},
   "outputs": [],
   "source": [
    "print_figures = false;"
   ]
  },
  {
   "cell_type": "code",
   "execution_count": 39,
   "metadata": {},
   "outputs": [
    {
     "data": {
      "text/plain": [
       "2-element Vector{Interval{Float64}}:\n",
       " [-2, 2]\n",
       " [-1, 1]"
      ]
     },
     "metadata": {},
     "output_type": "display_data"
    }
   ],
   "source": [
    "# Toy example: defining the network\n",
    "W1 = [1 -1.0; 1.0 1.]\n",
    "b = [0.0; 0.0]\n",
    "W2 = [1 -1.0; 1.0 1.]\n",
    "L1 = Layer(W1, b, ReLU())\n",
    "L2 = Layer(W2, b, Id())\n",
    "full_net = Network([L1; L2])\n",
    "\n",
    "# input range\n",
    "x = [interval(-2,2),interval(-1.,1.)]"
   ]
  },
  {
   "cell_type": "code",
   "execution_count": 40,
   "metadata": {},
   "outputs": [],
   "source": [
    "# Running the example with 2 focal elements\n",
    "#nb_discretization_steps = 2\n",
    "#ProbabilityBoundsAnalysis.setSteps(nb_discretization_steps)\n",
    "#px = uniform.(inf.(x),sup.(x)) \n",
    "# Printing the pbox\n",
    "#pz = pbox_approximate_nnet(full_net,px,true) # independent inputs\n",
    "#if print_figures\n",
    "#    ProbabilityBoundsAnalysis.plot(px[1])\n",
    "#    ProbabilityBoundsAnalysis.plot(pz[1])\n",
    "#    ProbabilityBoundsAnalysis.plot(pz[2])\n",
    "#end"
   ]
  },
  {
   "cell_type": "code",
   "execution_count": 41,
   "metadata": {},
   "outputs": [
    {
     "data": {
      "text/plain": [
       "Compare_analyzes (generic function with 1 method)"
      ]
     },
     "metadata": {},
     "output_type": "display_data"
    }
   ],
   "source": [
    "function Compare_analyzes(px::Vector{pbox})\n",
    "\n",
    "\n",
    "    println(\"DSI analysis\")\n",
    "    @time dsi_pz = pbox_approximate_nnet(full_net,px,true)  # true for independent inputs\n",
    "    print(\"dsi_pz[1] <= -2 : \",dsi_pz[1] <= -2,\"\\n\")\n",
    "    print(\"dsi_pz[2] >= 2 : \",dsi_pz[2] >= 2,\"\\n\")\n",
    "\n",
    "    \n",
    "    println(\"Probabilistic zonotope analysis\")\n",
    "    @time pzono_pz = PZono_approximate_nnet(full_net,px,true) # true for independent inputs\n",
    "    print(\"pzono_pz[1] <= -2 : \",pzono_pz[1] <= -2,\"\\n\")\n",
    "    print(\"pzono_pz[2] >= 2 : \",pzono_pz[2] >= 2,\"\\n\")\n",
    "\n",
    "\n",
    "    println(\"DSZ analysis\")\n",
    "    mat_spec_1 = [[1.0 0.0]\n",
    "                  [0.0 -1.0]]\n",
    "    rhs_spec_1 = [-2.0, -2.0]\n",
    "    @time vec_proba = dsz_approximate_nnet_and_condition_nostorage(full_net, px, mat_spec_1,rhs_spec_1,true) \n",
    "    println(\"dsz_pz[1] <= -2 :\", vec_proba[1])\n",
    "    println(\"dsz_pz[2] >= 2 :\", vec_proba[2])\n",
    "    #println(\"dsz_pz[1] <= -2 and dsz_pz[2] >= 2 :\", vec_proba[3])\n",
    "\n",
    "end"
   ]
  },
  {
   "cell_type": "code",
   "execution_count": 42,
   "metadata": {},
   "outputs": [
    {
     "name": "stdout",
     "output_type": "stream",
     "text": [
      "Inputs from Uniform law (independent components)\n",
      "-----------------------\n",
      "Number of focal elements on the inputs = 2\n",
      "DSI analysis\n",
      "  0.045908 seconds (36.79 k allocations: 1.813 MiB, 97.23% compilation time: 36% of which was recompilation)\n",
      "dsi_pz[1] <= -2 : [0, 0.5]\n",
      "dsi_pz[2] >= 2 : [0, 1]\n",
      "Probabilistic zonotope analysis\n",
      "  0.031368 seconds (29.79 k allocations: 1.432 MiB, 95.86% compilation time: 56% of which was recompilation)\n",
      "pzono_pz[1] <= -2 : [0, 0.5]\n",
      "pzono_pz[2] >= 2 : [0, 1]\n",
      "DSZ analysis\n",
      "  0.065482 seconds (94.10 k allocations: 4.704 MiB, 99.21% compilation time)\n",
      "dsz_pz[1] <= -2 :[0, 0.25]\n",
      "dsz_pz[2] >= 2 :[0, 0.5]\n",
      "\n",
      "Number of focal elements on the inputs = 10\n",
      "DSI analysis\n",
      "  0.001457 seconds (18.40 k allocations: 872.172 KiB)\n",
      "dsi_pz[1] <= -2 : [0, 0.2]\n",
      "dsi_pz[2] >= 2 : [0, 0.7]\n",
      "Probabilistic zonotope analysis\n",
      "  0.001306 seconds (13.80 k allocations: 609.109 KiB)\n",
      "pzono_pz[1] <= -2 : [0, 0.300001]\n",
      "pzono_pz[2] >= 2 : [0, 0.800001]\n",
      "DSZ analysis\n",
      "  0.000439 seconds (6.88 k allocations: 378.641 KiB)\n",
      "dsz_pz[1] <= -2 :[0, 0.0300001]\n",
      "dsz_pz[2] >= 2 :[0.199999, 0.300001]\n",
      "\n",
      "Number of focal elements on the inputs = 100\n",
      "DSI analysis\n",
      "  0.027083 seconds (515.95 k allocations: 33.102 MiB)\n",
      "dsi_pz[1] <= -2 : [0, 0.07]\n",
      "dsi_pz[2] >= 2 : [0.05, 0.520001]\n",
      "Probabilistic zonotope analysis\n",
      "  0.015353 seconds (245.22 k allocations: 18.670 MiB)\n",
      "pzono_pz[1] <= -2 : [0, 0.260001]\n",
      "pzono_pz[2] >= 2 : [0, 0.760001]\n",
      "DSZ analysis\n",
      "  0.037141 seconds (684.47 k allocations: 35.971 MiB)\n",
      "dsz_pz[1] <= -2 :[0, 0.00140001]\n",
      "dsz_pz[2] >= 2 :[0.25, 0.260001]\n",
      "\n",
      "Number of focal elements on the inputs = 1000\n",
      "DSI analysis\n",
      "  2.751666 seconds (64.11 M allocations: 3.480 GiB, 22.62% gc time)\n",
      "dsi_pz[1] <= -2 : [0, 0.063]\n",
      "dsi_pz[2] >= 2 : [0.062, 0.502001]\n",
      "Probabilistic zonotope analysis\n",
      "  1.328272 seconds (27.60 M allocations: 1.835 GiB, 23.92% gc time)\n",
      "pzono_pz[1] <= -2 : [0, 0.251001]\n",
      "pzono_pz[2] >= 2 : [0, 0.751001]\n",
      "DSZ analysis\n",
      "  4.364149 seconds (70.34 M allocations: 3.532 GiB, 18.50% gc time)\n",
      "dsz_pz[1] <= -2 :[0, 3.00001e-06]\n",
      "dsz_pz[2] >= 2 :[0.25, 0.251001]\n",
      "\n",
      "************************************************************************************************************************\n",
      "\n",
      "Inputs from truncated Normal law (independent components)\n",
      "-------------------------------\n",
      "Number of focal elements on the inputs = 10\n",
      "DSI analysis\n",
      "  2.820143 seconds (66.25 M allocations: 3.512 GiB, 22.45% gc time)\n",
      "dsi_pz[1] <= -2 : [0, 0.0170001]\n",
      "dsi_pz[2] >= 2 : [0, 0.277001]\n",
      "Probabilistic zonotope analysis\n",
      "  1.339820 seconds (26.81 M allocations: 1.816 GiB, 22.43% gc time)\n",
      "pzono_pz[1] <= -2 : [0, 0.097]\n",
      "pzono_pz[2] >= 2 : [0, 1]\n",
      "DSZ analysis\n",
      "  0.000539 seconds (6.89 k allocations: 382.078 KiB)\n",
      "dsz_pz[1] <= -2 :[0, 0.0100001]\n",
      "dsz_pz[2] >= 2 :[0, 0.100001]\n",
      "\n",
      "Number of focal elements on the inputs = 100\n",
      "DSI analysis\n",
      "  2.681647 seconds (64.35 M allocations: 3.484 GiB, 22.93% gc time)\n",
      "dsi_pz[1] <= -2 : [0, 0.00400001]\n",
      "dsi_pz[2] >= 2 : [0, 0.186]\n",
      "Probabilistic zonotope analysis\n",
      "  1.298531 seconds (27.69 M allocations: 1.836 GiB, 24.76% gc time)\n",
      "pzono_pz[1] <= -2 : [0, 0.068]\n",
      "pzono_pz[2] >= 2 : [0, 0.943]\n",
      "DSZ analysis\n",
      "  0.035927 seconds (684.43 k allocations: 36.014 MiB)\n",
      "dsz_pz[1] <= -2 :[0, 0.000400001]\n",
      "dsz_pz[2] >= 2 :[0.0599999, 0.0702001]\n",
      "\n",
      "Number of focal elements on the inputs = 1000\n",
      "DSI analysis\n",
      "  2.631907 seconds (64.09 M allocations: 3.479 GiB, 23.74% gc time)\n",
      "dsi_pz[1] <= -2 : [0, 0.00400001]\n",
      "dsi_pz[2] >= 2 : [0.003, 0.182]\n",
      "Probabilistic zonotope analysis\n",
      "  1.276434 seconds (27.60 M allocations: 1.835 GiB, 24.63% gc time)\n",
      "pzono_pz[1] <= -2 : [0, 0.067]\n",
      "pzono_pz[2] >= 2 : [0, 0.934001]\n",
      "DSZ analysis\n",
      "  4.173539 seconds (70.32 M allocations: 3.533 GiB, 19.35% gc time)\n",
      "dsz_pz[1] <= -2 :[6.19999e-05, 0.000108001]\n",
      "dsz_pz[2] >= 2 :[0.0659999, 0.0670021]\n",
      "\n"
     ]
    }
   ],
   "source": [
    "#ProbabilityBoundsAnalysis.setSteps(nb_discretization_steps)\n",
    "#px = [(normal(interval(0,1),1)-0.5)/3.5902*2.,(normal(interval(0,1),1)/2.0-0.25)/1.7951]\n",
    "\n",
    "println(\"Inputs from Uniform law (independent components)\")\n",
    "println(\"-----------------------\")\n",
    "for nb_discretization_steps in (2,10,100, 1000)\n",
    "    println(\"Number of focal elements on the inputs = \",nb_discretization_steps)\n",
    "    ProbabilityBoundsAnalysis.setSteps(nb_discretization_steps)\n",
    "    px = uniform.(inf.(x),sup.(x)) \n",
    "    Compare_analyzes(px)\n",
    "    println()\n",
    "end\n",
    "\n",
    "println(\"************************************************************************************************************************\")\n",
    "println()\n",
    "println(\"Inputs from truncated Normal law (independent components)\")\n",
    "println(\"-------------------------------\")\n",
    "for nb_discretization_steps in (10,100, 1000)\n",
    "    println(\"Number of focal elements on the inputs = \",nb_discretization_steps)\n",
    "    px = init_pbox_Normal(inf.(x),sup.(x),nb_discretization_steps,true) # truncated normal law\n",
    "    Compare_analyzes(px)\n",
    "    println()\n",
    "end"
   ]
  }
 ],
 "metadata": {
  "kernelspec": {
   "display_name": "Julia 1.8.1",
   "language": "julia",
   "name": "julia-1.8"
  },
  "language_info": {
   "file_extension": ".jl",
   "mimetype": "application/julia",
   "name": "julia",
   "version": "1.8.1"
  },
  "vscode": {
   "interpreter": {
    "hash": "748293322e54f5f9f164a0f7a8e5d096e27d214cf3efee43248b1fde0598a03c"
   }
  }
 },
 "nbformat": 4,
 "nbformat_minor": 2
}
