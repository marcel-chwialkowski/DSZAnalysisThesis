{
 "cells": [
  {
   "cell_type": "markdown",
   "metadata": {},
   "source": [
    "# A toy example\n",
    "# Convert to Julia file by jupytext --to jl ToyExample.ipynb"
   ]
  },
  {
   "cell_type": "code",
   "execution_count": 1,
   "metadata": {},
   "outputs": [
    {
     "name": "stderr",
     "output_type": "stream",
     "text": [
      "WARNING: import of Base.rand into Main conflicts with an existing identifier; ignored.\n"
     ]
    },
    {
     "data": {
      "text/plain": [
       "pbox_from_data (generic function with 1 method)"
      ]
     },
     "metadata": {},
     "output_type": "display_data"
    }
   ],
   "source": [
    "include(\"../src/DSI.jl\")\n",
    "include(\"../src/Zono_utils.jl\")\n",
    "include(\"../src/PZono.jl\")\n",
    "include(\"../src/DSZ.jl\")\n",
    "include(\"../src/marcelstuff.jl\")"
   ]
  },
  {
   "cell_type": "code",
   "execution_count": 2,
   "metadata": {},
   "outputs": [],
   "source": [
    "print_figures = true;"
   ]
  },
  {
   "cell_type": "code",
   "execution_count": null,
   "metadata": {},
   "outputs": [
    {
     "data": {
      "text/plain": [
       "2-element Vector{Interval{Float64}}:\n",
       " [-2, 2]\n",
       " [-1, 1]"
      ]
     },
     "metadata": {},
     "output_type": "display_data"
    }
   ],
   "source": [
    "# Toy example: defining the network\n",
    "W1 = [1 -1.0; 1.0 1.]\n",
    "b = [0.0; 0.0]\n",
    "W2 = [1 -1.0; 1.0 1.]\n",
    "L1 = Layer(W1, b, ReLU())\n",
    "L2 = Layer(W2, b, Id())\n",
    "full_net = Network([L1; L2])\n",
    "\n",
    "# input range\n",
    "x = [interval(-2,2),interval(-1.,1.)]"
   ]
  },
  {
   "cell_type": "code",
   "execution_count": 8,
   "metadata": {},
   "outputs": [],
   "source": [
    "using PyPlot\n",
    "ProbabilityBoundsAnalysis.plot(x[1])\n",
    "PyPlot.savefig(\"input_range.png\")"
   ]
  },
  {
   "cell_type": "code",
   "execution_count": 330,
   "metadata": {},
   "outputs": [
    {
     "data": {
      "text/plain": [
       "Interval{Float64}"
      ]
     },
     "metadata": {},
     "output_type": "display_data"
    }
   ],
   "source": [
    "u = Base.rand()\n",
    "a = uniform(0, 1)\n",
    "s = cut(a, u)\n",
    "typeof(s)"
   ]
  },
  {
   "cell_type": "code",
   "execution_count": 335,
   "metadata": {},
   "outputs": [
    {
     "name": "stdout",
     "output_type": "stream",
     "text": [
      "NaN\n",
      "NaN\n"
     ]
    }
   ],
   "source": [
    "y = sample_from_pboxes(x, 1000)\n",
    "y_prop = []\n",
    "for i in 1:length(y)\n",
    "    aux = compute_output(full_net, y[i])\n",
    "    push!(y_prop, aux)\n",
    "end\n",
    "y_prop1 = [y_prop[i][1] for i in 1:length(y_prop)]\n",
    "println(maximum(y_prop1))\n",
    "y_prop2 = [y_prop[i][2] for i in 1:length(y_prop)]\n",
    "println(maximum(y_prop2))"
   ]
  },
  {
   "cell_type": "code",
   "execution_count": 337,
   "metadata": {},
   "outputs": [],
   "source": [
    "#pyplot()\n",
    "# Running the example with 2 focal elements\n",
    "nb_discretization_steps = 100\n",
    "ProbabilityBoundsAnalysis.setSteps(nb_discretization_steps)\n",
    "px = uniform.(inf.(x),sup.(x)) \n",
    "# Printing the pbox\n",
    "pz = pbox_approximate_nnet(full_net,px,true) # independent inputs\n",
    "if print_figures\n",
    "    #ProbabilityBoundsAnalysis.plot(px[1])\n",
    "    #ProbabilityBoundsAnalysis.plot(px[2])\n",
    "    ProbabilityBoundsAnalysis.plot(pz[1])\n",
    "    sorted_data, cdf = empirical_cdf(y_prop1)\n",
    "    plot(sorted_data, cdf, marker=\"o\", linestyle=\"-\", label=\"Empirical CDF\")\n",
    "    PyPlot.savefig(\"plot1.png\")\n",
    "\n",
    "    ProbabilityBoundsAnalysis.plot(pz[2])\n",
    "    sorted_data, cdf, low, up = pbox_from_data(y_prop2)\n",
    "    plot(sorted_data, cdf, marker=\"o\", linestyle=\"-\", label=\"Empirical CDF\")\n",
    "    plot(sorted_data, low, marker=\"o\", linestyle=\"-\", label=\"Empirical CDF\")\n",
    "    plot(sorted_data, up, marker=\"o\", linestyle=\"-\", label=\"Empirical CDF\")\n",
    "    PyPlot.savefig(\"plot2.png\")\n",
    "end"
   ]
  },
  {
   "cell_type": "code",
   "execution_count": 190,
   "metadata": {},
   "outputs": [
    {
     "data": {
      "text/plain": [
       "Compare_analyzes (generic function with 1 method)"
      ]
     },
     "metadata": {},
     "output_type": "display_data"
    }
   ],
   "source": [
    "function Compare_analyzes(px::Vector{pbox})\n",
    "\n",
    "\n",
    "    println(\"DSI analysis\")\n",
    "    @time dsi_pz = pbox_approximate_nnet(full_net,px,true)  # true for independent inputs\n",
    "    print(\"dsi_pz[1] <= -2 : \",dsi_pz[1] <= -2,\"\\n\")\n",
    "    print(\"dsi_pz[2] >= 2 : \",dsi_pz[2] >= 2,\"\\n\")\n",
    "    \n",
    "\n",
    "    \n",
    "    println(\"Probabilistic zonotope analysis\")\n",
    "    @time pzono_pz = PZono_approximate_nnet(full_net,px,true) # true for independent inputs\n",
    "    print(\"pzono_pz[1] <= -2 : \",pzono_pz[1] <= -2,\"\\n\")\n",
    "    print(\"pzono_pz[2] >= 2 : \",pzono_pz[2] >= 2,\"\\n\")\n",
    "    ProbabilityBoundsAnalysis.plot(pzono_pz[1])\n",
    "    PyPlot.savefig(\"huh.png\")\n",
    "\n",
    "    println(\"DSZ analysis\")\n",
    "    mat_spec_1 = [[1.0 0.0]\n",
    "                  [0.0 -1.0]]\n",
    "    rhs_spec_1 = [-2.0, -2.0]\n",
    "    @time vec_proba = dsz_approximate_nnet_and_condition_nostorage(full_net, px, mat_spec_1,rhs_spec_1,true) \n",
    "    println(\"dsz_pz[1] <= -2 :\", vec_proba[1])\n",
    "    println(\"dsz_pz[2] >= 2 :\", vec_proba[2])\n",
    "    #println(\"dsz_pz[1] <= -2 and dsz_pz[2] >= 2 :\", vec_proba[3])\n",
    "\n",
    "end"
   ]
  },
  {
   "cell_type": "code",
   "execution_count": null,
   "metadata": {},
   "outputs": [],
   "source": [
    "#ProbabilityBoundsAnalysis.setSteps(nb_discretization_steps)\n",
    "#px = [(normal(interval(0,1),1)-0.5)/3.5902*2.,(normal(interval(0,1),1)/2.0-0.25)/1.7951]\n",
    "\n",
    "println(\"Inputs from Uniform law (independent components)\")\n",
    "println(\"-----------------------\")\n",
    "for nb_discretization_steps in (2,10,100, 1000)\n",
    "    println(\"Number of focal elements on the inputs = \",nb_discretization_steps)\n",
    "    ProbabilityBoundsAnalysis.setSteps(nb_discretization_steps)\n",
    "    px = uniform.(inf.(x),sup.(x)) \n",
    "    Compare_analyzes(px)\n",
    "    println()\n",
    "end\n",
    "\n",
    "println(\"************************************************************************************************************************\")\n",
    "println()\n",
    "println(\"Inputs from truncated Normal law (independent components)\")\n",
    "println(\"-------------------------------\")\n",
    "for nb_discretization_steps in (10,100, 1000)\n",
    "    println(\"Number of focal elements on the inputs = \",nb_discretization_steps)\n",
    "    px = init_pbox_Normal(inf.(x),sup.(x),nb_discretization_steps,true) # truncated normal law\n",
    "    Compare_analyzes(px)\n",
    "    println()\n",
    "end"
   ]
  }
 ],
 "metadata": {
  "kernelspec": {
   "display_name": "Julia 1.11.2",
   "language": "julia",
   "name": "julia-1.11"
  },
  "language_info": {
   "file_extension": ".jl",
   "mimetype": "application/julia",
   "name": "julia",
   "version": "1.11.2"
  },
  "vscode": {
   "interpreter": {
    "hash": "748293322e54f5f9f164a0f7a8e5d096e27d214cf3efee43248b1fde0598a03c"
   }
  }
 },
 "nbformat": 4,
 "nbformat_minor": 2
}
