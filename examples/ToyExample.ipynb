{
 "cells": [
  {
   "cell_type": "markdown",
   "metadata": {},
   "source": [
    "# A toy example\n",
    "# Convert to Julia file by jupytext --to jl ToyExample.ipynb"
   ]
  },
  {
   "cell_type": "code",
   "execution_count": 28,
   "metadata": {},
   "outputs": [
    {
     "name": "stderr",
     "output_type": "stream",
     "text": [
      "\u001b[32m\u001b[1m   Resolving\u001b[22m\u001b[39m package versions...\n",
      "\u001b[32m\u001b[1m  No Changes\u001b[22m\u001b[39m to `~/.julia/environments/v1.8/Project.toml`\n",
      "\u001b[32m\u001b[1m  No Changes\u001b[22m\u001b[39m to `~/.julia/environments/v1.8/Manifest.toml`\n",
      "\u001b[32m\u001b[1m   Resolving\u001b[22m\u001b[39m package versions...\n",
      "\u001b[32m\u001b[1m  No Changes\u001b[22m\u001b[39m to `~/.julia/environments/v1.8/Project.toml`\n",
      "\u001b[32m\u001b[1m  No Changes\u001b[22m\u001b[39m to `~/.julia/environments/v1.8/Manifest.toml`\n",
      "\u001b[32m\u001b[1m   Resolving\u001b[22m\u001b[39m package versions...\n",
      "\u001b[32m\u001b[1m  No Changes\u001b[22m\u001b[39m to `~/.julia/environments/v1.8/Project.toml`\n",
      "\u001b[32m\u001b[1m  No Changes\u001b[22m\u001b[39m to `~/.julia/environments/v1.8/Manifest.toml`\n",
      "\u001b[32m\u001b[1m   Resolving\u001b[22m\u001b[39m package versions...\n",
      "\u001b[32m\u001b[1m  No Changes\u001b[22m\u001b[39m to `~/.julia/environments/v1.8/Project.toml`\n",
      "\u001b[32m\u001b[1m  No Changes\u001b[22m\u001b[39m to `~/.julia/environments/v1.8/Manifest.toml`\n",
      "\u001b[32m\u001b[1m   Resolving\u001b[22m\u001b[39m package versions...\n",
      "\u001b[32m\u001b[1m  No Changes\u001b[22m\u001b[39m to `~/.julia/environments/v1.8/Project.toml`\n",
      "\u001b[32m\u001b[1m  No Changes\u001b[22m\u001b[39m to `~/.julia/environments/v1.8/Manifest.toml`\n"
     ]
    },
    {
     "data": {
      "text/plain": [
       "paf_focal_refinement_sauv (generic function with 1 method)"
      ]
     },
     "metadata": {},
     "output_type": "display_data"
    }
   ],
   "source": [
    "include(\"Pbox_nn.jl\")\n",
    "include(\"Sets_utils.jl\")\n",
    "include(\"Pforms.jl\")"
   ]
  },
  {
   "cell_type": "code",
   "execution_count": 29,
   "metadata": {},
   "outputs": [],
   "source": [
    "print_figures = false;"
   ]
  },
  {
   "cell_type": "code",
   "execution_count": 30,
   "metadata": {},
   "outputs": [
    {
     "data": {
      "text/plain": [
       "2-element Vector{Interval{Float64}}:\n",
       " [-2, 2]\n",
       " [-1, 1]"
      ]
     },
     "metadata": {},
     "output_type": "display_data"
    }
   ],
   "source": [
    "# Toy example: defining the network\n",
    "W1 = [1 -1.0; 1.0 1.]\n",
    "b = [0.0; 0.0]\n",
    "W2 = [1 -1.0; 1.0 1.]\n",
    "L1 = Layer(W1, b, ReLU())\n",
    "L2 = Layer(W2, b, Id())\n",
    "full_net = Network([L1; L2])\n",
    "\n",
    "# input range\n",
    "x = [interval(-2,2),interval(-1.,1.)]"
   ]
  },
  {
   "cell_type": "code",
   "execution_count": 31,
   "metadata": {},
   "outputs": [],
   "source": [
    "# Running the example with 2 focal elements\n",
    "#nb_discretization_steps = 2\n",
    "#ProbabilityBoundsAnalysis.setSteps(nb_discretization_steps)\n",
    "#px = uniform.(inf.(x),sup.(x)) \n",
    "# Printing the pbox\n",
    "#pz = pbox_approximate_nnet(full_net,px,true) # independent inputs\n",
    "#if print_figures\n",
    "#    ProbabilityBoundsAnalysis.plot(px[1])\n",
    "#    ProbabilityBoundsAnalysis.plot(pz[1])\n",
    "#    ProbabilityBoundsAnalysis.plot(pz[2])\n",
    "#end"
   ]
  },
  {
   "cell_type": "code",
   "execution_count": 32,
   "metadata": {},
   "outputs": [
    {
     "data": {
      "text/plain": [
       "Compare_analyzes (generic function with 1 method)"
      ]
     },
     "metadata": {},
     "output_type": "display_data"
    }
   ],
   "source": [
    "function Compare_analyzes(px::Vector{pbox})\n",
    "\n",
    "    println(\"DSI Analysis, unknown correlation on inputs\")\n",
    "    @time pz = pbox_approximate_nnet(full_net,px,false)\n",
    "    print(\"pz[1] <= -2 : \",pz[1] <= -2,\"\\n\")\n",
    "    print(\"pz[1] >= 2 : \",pz[2] >= 2,\"\\n\")\n",
    "\n",
    "\n",
    "    println(\"DSI analysis, independent inputs\")\n",
    "    @time pz = pbox_approximate_nnet(full_net,px,true)\n",
    "    print(\"pz[1] <= -2 : \",pz[1] <= -2,\"\\n\")\n",
    "    print(\"pz[1] >= 2 : \",pz[2] >= 2,\"\\n\")\n",
    "\n",
    "\n",
    "    println(\"Probabilistic zonotopes analysis, unknown correlation on inputs\")\n",
    "    @time affpz = affpbox_approximate_nnet(full_net,px,false)\n",
    "    print(\"affpz[1] <= -2 : \",affpz[1] <= -2,\"\\n\")\n",
    "    print(\"affpz[1] >= 2 : \",affpz[2] >= 2,\"\\n\")\n",
    "\n",
    "    \n",
    "    println(\"Probabilistic zonotope analysis, independent inputs\")\n",
    "    @time affpz = affpbox_approximate_nnet(full_net,px,true) # true for independent inputs\n",
    "    print(\"affpz[1] <= -2 : \",affpz[1] <= -2,\"\\n\")\n",
    "    print(\"affpz[1] >= 2 : \",affpz[2] >= 2,\"\\n\")\n",
    "\n",
    "    #println(\"Zonotopic Dempster-Shafer analysis, independent inputs\")\n",
    "    #@time begin\n",
    "    #    paf = generate_PAF(px)\n",
    "    #    paf_res = paf_approximate_nnet(full_net, paf)\n",
    "    #    dsztodsi = PAF_to_pbox(paf_res,true)\n",
    "    #end\n",
    "    #print(\"dszpz[1] <= -2 : \",dsztodsi[1] <= -2,\"\\n\")\n",
    "    #print(\"dszpz[1] >= 2 : \",dsztodsi[2] >= 2,\"\\n\")\n",
    "\n",
    "    println(\"Zonotopic Dempster-Shafer analysis, independent inputs\")\n",
    "    mat_spec_1 = [[1.0 0.0]\n",
    "                  [0.0 -1.0]]\n",
    "    rhs_spec_1 = [-2.0, -2.0]\n",
    "    #@time paf_approximate_nnet_and_condition(full_net, px, mat_spec_1,rhs_spec_1,true) \n",
    "    println(\"Property conjunction\")\n",
    "    @time paf_approximate_nnet_and_condition_nostorage(full_net, px, mat_spec_1,rhs_spec_1,true) \n",
    "\n",
    "    #mat_spec_1stcondition = [1.0 0.0]\n",
    "    ##rhs_spec_1stcondition = [-2.0]\n",
    "    #mat_spec_2ndcondition = [0.0 -1.0]\n",
    "    #rhs_spec_2ndcondition = [-2.0]\n",
    "    #println(\"1st property\")\n",
    "    #@time paf_approximate_nnet_and_condition_nostorage(full_net, px, mat_spec_1stcondition,rhs_spec_1stcondition,true) \n",
    "    #println(\"2nd property\")\n",
    "    #@time paf_approximate_nnet_and_condition_nostorage(full_net, px, mat_spec_2ndcondition,rhs_spec_2ndcondition,true) \n",
    "end"
   ]
  },
  {
   "cell_type": "code",
   "execution_count": 33,
   "metadata": {},
   "outputs": [
    {
     "name": "stdout",
     "output_type": "stream",
     "text": [
      "Number of focal elements on the inputs = 2\n",
      "Uniform law\n",
      "DSI Analysis, unknown correlation on inputs\n",
      "  0.046926 seconds (38.23 k allocations: 1.865 MiB, 96.80% compilation time: 36% of which was recompilation)\n",
      "pz[1] <= -2 : [0, 0.5]\n",
      "pz[1] >= 2 : [0, 1]\n",
      "DSI analysis, independent inputs\n",
      "  0.000834 seconds (6.48 k allocations: 243.984 KiB)\n",
      "pz[1] <= -2 : [0, 0.5]\n",
      "pz[1] >= 2 : [0, 1]\n",
      "Probabilistic zonotopes analysis, unknown correlation on inputs\n",
      "  0.059985 seconds (24.74 k allocations: 1.143 MiB, 64.18% gc time, 96.64% compilation time: 100% of which was recompilation)\n",
      "affpz[1] <= -2 : [0, 0.5]\n",
      "affpz[1] >= 2 : [0, 1]\n",
      "Probabilistic zonotope analysis, independent inputs\n",
      "  0.001048 seconds (6.89 k allocations: 228.828 KiB)\n",
      "affpz[1] <= -2 : [0, 0.5]\n",
      "affpz[1] >= 2 : [0, 1]\n",
      "Zonotopic Dempster-Shafer analysis, independent inputs\n",
      "Number of zonotopic focal elements=4\n",
      "  0.075262 seconds (79.95 k allocations: 4.338 MiB, 99.33% compilation time)\n",
      "dszpz[1] <= -2 : [0, 0.25]\n",
      "dszpz[1] >= 2 : [0, 0.5]\n",
      "Zonotopic Dempster-Shafer analysis, independent inputs\n",
      "Number of zonotopic focal elements=4\n",
      "Probability : [0, 0.25]\n",
      "resulting pbox:pbox[Pbox: \t  ~  ( range=[-2.3333, 2.3333], mean=[-1.1667, 1.1667], var=[0.0, 3.2222]), Pbox: \t  ~  ( range=[-0.66667, 4.3333], mean=[-0.33333, 2.6667], var=[0.0, 6.25])]\n",
      "  0.000595 seconds (987 allocations: 56.206 KiB)\n",
      "Number of zonotopic focal elements=4\n",
      "Probability : [0, 0.25]\n",
      "  0.103365 seconds (156.03 k allocations: 7.688 MiB, 98.93% compilation time)\n",
      "********************\n",
      "Truncated Normal law\n",
      "DSI Analysis, unknown correlation on inputs\n",
      "  0.001173 seconds (9.91 k allocations: 419.266 KiB)\n",
      "pz[1] <= -2 : [0, 0.75]\n",
      "pz[1] >= 2 : [0, 1]\n",
      "DSI analysis, independent inputs\n",
      "  0.000898 seconds (8.03 k allocations: 341.297 KiB)\n",
      "pz[1] <= -2 : [0, 0.5]\n",
      "pz[1] >= 2 : [0, 1]\n",
      "Probabilistic zonotopes analysis, unknown correlation on inputs\n",
      "  0.001218 seconds (9.69 k allocations: 352.312 KiB)\n",
      "affpz[1] <= -2 : [0, 0.75]\n",
      "affpz[1] >= 2 : [0, 1]\n",
      "Probabilistic zonotope analysis, independent inputs\n",
      "  0.000971 seconds (8.09 k allocations: 295.297 KiB)\n",
      "affpz[1] <= -2 : [0, 0.75]\n",
      "affpz[1] >= 2 : [0, 1]\n",
      "Zonotopic Dempster-Shafer analysis, independent inputs\n",
      "Number of zonotopic focal elements=4\n",
      "  0.000202 seconds (651 allocations: 32.461 KiB)\n",
      "dszpz[1] <= -2 : [0, 0.25]\n",
      "dszpz[1] >= 2 : [0, 0.5]\n",
      "Zonotopic Dempster-Shafer analysis, independent inputs\n",
      "Number of zonotopic focal elements=4\n",
      "Probability : [0, 0.25]\n",
      "resulting pbox:pbox[Pbox: \t  ~  ( range=[-2.3333, 2.3333], mean=[-1.1667, 1.1667], var=[0.0, 3.2222]), Pbox: \t  ~  ( range=[-0.66667, 4.3333], mean=[-0.33333, 2.6667], var=[0.0, 6.25])]\n",
      "  0.000578 seconds (987 allocations: 56.206 KiB)\n",
      "Number of zonotopic focal elements=4\n",
      "Probability : [0, 0.25]\n",
      "  0.000205 seconds (317 allocations: 24.378 KiB)\n",
      "************************************************************************************************************************\n",
      "************************************************************************************************************************\n",
      "Number of focal elements on the inputs = 10\n",
      "Uniform law\n",
      "DSI Analysis, unknown correlation on inputs\n",
      "  0.012317 seconds (40.77 k allocations: 1.881 MiB, 84.86% compilation time)\n",
      "pz[1] <= -2 : [0, 0.300001]\n",
      "pz[1] >= 2 : [0, 1]\n",
      "DSI analysis, independent inputs\n",
      "  0.001423 seconds (18.40 k allocations: 872.250 KiB)\n",
      "pz[1] <= -2 : [0, 0.2]\n",
      "pz[1] >= 2 : [0, 0.7]\n",
      "Probabilistic zonotopes analysis, unknown correlation on inputs\n",
      "  0.001707 seconds (17.13 k allocations: 726.531 KiB)\n",
      "affpz[1] <= -2 : [0, 0.300001]\n",
      "affpz[1] >= 2 : [0, 0.800001]\n",
      "Probabilistic zonotope analysis, independent inputs\n",
      "  0.001310 seconds (13.81 k allocations: 609.422 KiB)\n",
      "affpz[1] <= -2 : [0, 0.300001]\n",
      "affpz[1] >= 2 : [0, 0.800001]\n",
      "Zonotopic Dempster-Shafer analysis, independent inputs\n",
      "Number of zonotopic focal elements=100\n",
      "  0.015310 seconds (29.93 k allocations: 1.604 MiB, 88.60% compilation time)\n",
      "dszpz[1] <= -2 : [0, 0.0300001]\n",
      "dszpz[1] >= 2 : [0.199999, 0.300001]\n",
      "Zonotopic Dempster-Shafer analysis, independent inputs\n",
      "Number of zonotopic focal elements=100\n",
      "Probability : [0, 0.03]\n",
      "resulting pbox:pbox[Pbox: \t  ~  ( range=[-2.0667, 2.0667], mean=[-0.164, 0.164], var=[0.36569, 0.8608]), Pbox: \t  ~  ( range=[-0.13333, 4.0], mean=[0.848, 1.3253], var=[1.0979, 2.1576])]\n",
      "  0.002358 seconds (32.07 k allocations: 1.702 MiB)\n",
      "Number of zonotopic focal elements=100\n",
      "Probability : [0, 0.0300001]\n",
      "  0.000530 seconds (4.34 k allocations: 260.354 KiB)\n",
      "********************\n",
      "Truncated Normal law\n",
      "DSI Analysis, unknown correlation on inputs\n",
      "  0.087824 seconds (681.90 k allocations: 41.116 MiB, 69.17% compilation time)\n",
      "pz[1] <= -2 : [0, 0.1]\n",
      "pz[1] >= 2 : [0, 0.660001]\n",
      "DSI analysis, independent inputs\n",
      "  0.026399 seconds (516.00 k allocations: 33.137 MiB)\n",
      "pz[1] <= -2 : [0, 0.0200001]\n",
      "pz[1] >= 2 : [0, 0.300001]\n",
      "Probabilistic zonotopes analysis, unknown correlation on inputs\n",
      "  0.035751 seconds (312.39 k allocations: 20.486 MiB)\n",
      "affpz[1] <= -2 : [0, 0.1]\n",
      "affpz[1] >= 2 : [0, 1]\n",
      "Probabilistic zonotope analysis, independent inputs\n",
      "  0.037038 seconds (234.84 k allocations: 18.443 MiB)\n",
      "affpz[1] <= -2 : [0, 0.1]\n",
      "affpz[1] >= 2 : [0, 1]\n",
      "Zonotopic Dempster-Shafer analysis, independent inputs\n",
      "Number of zonotopic focal elements=100\n",
      "  0.003445 seconds (29.75 k allocations: 1.600 MiB)\n",
      "dszpz[1] <= -2 : [0, 0.0100001]\n",
      "dszpz[1] >= 2 : [0, 0.1]\n",
      "Zonotopic Dempster-Shafer analysis, independent inputs\n",
      "Number of zonotopic focal elements=100\n",
      "Probability : [0, 0.0100001]\n",
      "resulting pbox:pbox[Pbox: \t  ~  ( range=[-2.0847, 2.0847], mean=[-0.14609, 0.14609], var=[0.077911, 0.44422]), Pbox: \t  ~  ( range=[-0.21649, 4.0485], mean=[0.40523, 0.93542], var=[0.269, 1.5413])]\n",
      "  0.003868 seconds (32.20 k allocations: 1.712 MiB)\n",
      "Number of zonotopic focal elements=100\n",
      "Probability : [0, 0.0100001]\n",
      "  0.000521 seconds (4.46 k allocations: 271.448 KiB)\n",
      "************************************************************************************************************************\n",
      "************************************************************************************************************************\n"
     ]
    }
   ],
   "source": [
    "#ProbabilityBoundsAnalysis.setSteps(nb_discretization_steps)\n",
    "#px = [(normal(interval(0,1),1)-0.5)/3.5902*2.,(normal(interval(0,1),1)/2.0-0.25)/1.7951]\n",
    "\n",
    "for nb_discretization_steps in (2,10,100, 1000)\n",
    "    println(\"Number of focal elements on the inputs = \",nb_discretization_steps)\n",
    "    ProbabilityBoundsAnalysis.setSteps(nb_discretization_steps)\n",
    "    println(\"Uniform law\")\n",
    "    px = uniform.(inf.(x),sup.(x)) \n",
    "    Compare_analyzes(px)\n",
    "\n",
    "    println(\"********************\")\n",
    "    println(\"Truncated Normal law\")\n",
    "    px = init_pbox_Normal(inf.(x),sup.(x),nb_discretization_steps,true) # truncated normal law\n",
    "    Compare_analyzes(px)\n",
    "    println(\"************************************************************************************************************************\")\n",
    "    println(\"************************************************************************************************************************\")\n",
    "end"
   ]
  }
 ],
 "metadata": {
  "kernelspec": {
   "display_name": "Julia 1.8.1",
   "language": "julia",
   "name": "julia-1.8"
  },
  "language_info": {
   "file_extension": ".jl",
   "mimetype": "application/julia",
   "name": "julia",
   "version": "1.8.1"
  },
  "vscode": {
   "interpreter": {
    "hash": "748293322e54f5f9f164a0f7a8e5d096e27d214cf3efee43248b1fde0598a03c"
   }
  }
 },
 "nbformat": 4,
 "nbformat_minor": 2
}
