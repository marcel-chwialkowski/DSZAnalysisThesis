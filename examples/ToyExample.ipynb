{
 "cells": [
  {
   "cell_type": "markdown",
   "metadata": {},
   "source": [
    "# A toy example\n",
    "# Convert to Julia file by jupytext --to jl ToyExample.ipynb"
   ]
  },
  {
   "cell_type": "code",
   "execution_count": null,
   "metadata": {},
   "outputs": [],
   "source": [
    "include(\"../src/DSI.jl\")\n",
    "include(\"../src/Zono_utils.jl\")\n",
    "include(\"../src/PZono.jl\")\n",
    "include(\"../src/DSZ.jl\")"
   ]
  },
  {
   "cell_type": "code",
   "execution_count": null,
   "metadata": {},
   "outputs": [],
   "source": [
    "print_figures = false;"
   ]
  },
  {
   "cell_type": "code",
   "execution_count": null,
   "metadata": {},
   "outputs": [],
   "source": [
    "# Toy example: defining the network\n",
    "W1 = [1 -1.0; 1.0 1.]\n",
    "b = [0.0; 0.0]\n",
    "W2 = [1 -1.0; 1.0 1.]\n",
    "L1 = Layer(W1, b, ReLU())\n",
    "L2 = Layer(W2, b, Id())\n",
    "full_net = Network([L1; L2])\n",
    "\n",
    "# input range\n",
    "x = [interval(-2,2),interval(-1.,1.)]"
   ]
  },
  {
   "cell_type": "code",
   "execution_count": null,
   "metadata": {},
   "outputs": [],
   "source": [
    "# Running the example with 2 focal elements\n",
    "#nb_discretization_steps = 2\n",
    "#ProbabilityBoundsAnalysis.setSteps(nb_discretization_steps)\n",
    "#px = uniform.(inf.(x),sup.(x)) \n",
    "# Printing the pbox\n",
    "#pz = pbox_approximate_nnet(full_net,px,true) # independent inputs\n",
    "#if print_figures\n",
    "#    ProbabilityBoundsAnalysis.plot(px[1])\n",
    "#    ProbabilityBoundsAnalysis.plot(pz[1])\n",
    "#    ProbabilityBoundsAnalysis.plot(pz[2])\n",
    "#end"
   ]
  },
  {
   "cell_type": "code",
   "execution_count": null,
   "metadata": {},
   "outputs": [],
   "source": [
    "function Compare_analyzes(px::Vector{pbox})\n",
    "\n",
    "    println(\"DSI Analysis, unknown correlation on inputs\")\n",
    "    @time dsi_pz = pbox_approximate_nnet(full_net,px,false)\n",
    "    print(\"dsi_pz[1] <= -2 : \",dsi_pz[1] <= -2,\"\\n\")\n",
    "    print(\"dsi_pz[2] >= 2 : \",dsi_pz[2] >= 2,\"\\n\")\n",
    "\n",
    "\n",
    "    println(\"DSI analysis, independent inputs\")\n",
    "    @time dsi_pz = pbox_approximate_nnet(full_net,px,true)\n",
    "    print(\"dsi_pz[1] <= -2 : \",dsi_pz[1] <= -2,\"\\n\")\n",
    "    print(\"dsi_pz[2] >= 2 : \",dsi_pz[2] >= 2,\"\\n\")\n",
    "\n",
    "\n",
    "    println(\"Probabilistic zonotopes analysis, unknown correlation on inputs\")\n",
    "    @time pzono_pz = affpbox_approximate_nnet(full_net,px,false)\n",
    "    print(\"pzono_pz[1] <= -2 : \",pzono_pz[1] <= -2,\"\\n\")\n",
    "    print(\"pzono_pz[2] >= 2 : \",pzono_pz[2] >= 2,\"\\n\")\n",
    "\n",
    "    \n",
    "    println(\"Probabilistic zonotope analysis, independent inputs\")\n",
    "    @time pzono_pz = affpbox_approximate_nnet(full_net,px,true) # true for independent inputs\n",
    "    print(\"pzono_pz[1] <= -2 : \",pzono_pz[1] <= -2,\"\\n\")\n",
    "    print(\"pzono_pz[2] >= 2 : \",pzono_pz[2] >= 2,\"\\n\")\n",
    "\n",
    "    #println(\"Zonotopic Dempster-Shafer analysis, independent inputs\")\n",
    "    #@time begin\n",
    "    #    dsz = generate_DSZ(px)\n",
    "    #    dsz_res = dsz_approximate_nnet(full_net, dsz)\n",
    "    #    dsztodsi = DSZ_to_pbox(dsz_res,true)\n",
    "    #end\n",
    "    #print(\"dszpz[1] <= -2 : \",dsztodsi[1] <= -2,\"\\n\")\n",
    "    #print(\"dszpz[1] >= 2 : \",dsztodsi[2] >= 2,\"\\n\")\n",
    "\n",
    "    println(\"Zonotopic Dempster-Shafer analysis, independent inputs\")\n",
    "    mat_spec_1 = [[1.0 0.0]\n",
    "                  [0.0 -1.0]]\n",
    "    rhs_spec_1 = [-2.0, -2.0]\n",
    "    #@time dsz_approximate_nnet_and_condition(full_net, px, mat_spec_1,rhs_spec_1,true) \n",
    "    println(\"Property conjunction\")\n",
    "    @time dsz_approximate_nnet_and_condition_nostorage(full_net, px, mat_spec_1,rhs_spec_1,true) \n",
    "\n",
    "    #mat_spec_1stcondition = [1.0 0.0]\n",
    "    ##rhs_spec_1stcondition = [-2.0]\n",
    "    #mat_spec_2ndcondition = [0.0 -1.0]\n",
    "    #rhs_spec_2ndcondition = [-2.0]\n",
    "    #println(\"1st property\")\n",
    "    #@time dsz_approximate_nnet_and_condition_nostorage(full_net, px, mat_spec_1stcondition,rhs_spec_1stcondition,true) \n",
    "    #println(\"2nd property\")\n",
    "    #@time dsz_approximate_nnet_and_condition_nostorage(full_net, px, mat_spec_2ndcondition,rhs_spec_2ndcondition,true) \n",
    "end"
   ]
  },
  {
   "cell_type": "code",
   "execution_count": null,
   "metadata": {},
   "outputs": [],
   "source": [
    "#ProbabilityBoundsAnalysis.setSteps(nb_discretization_steps)\n",
    "#px = [(normal(interval(0,1),1)-0.5)/3.5902*2.,(normal(interval(0,1),1)/2.0-0.25)/1.7951]\n",
    "\n",
    "for nb_discretization_steps in (2,10,100, 1000)\n",
    "    println(\"Number of focal elements on the inputs = \",nb_discretization_steps)\n",
    "    ProbabilityBoundsAnalysis.setSteps(nb_discretization_steps)\n",
    "    println(\"Uniform law\")\n",
    "    px = uniform.(inf.(x),sup.(x)) \n",
    "    Compare_analyzes(px)\n",
    "\n",
    "    println(\"********************\")\n",
    "    println(\"Truncated Normal law\")\n",
    "    px = init_pbox_Normal(inf.(x),sup.(x),nb_discretization_steps,true) # truncated normal law\n",
    "    Compare_analyzes(px)\n",
    "    println(\"************************************************************************************************************************\")\n",
    "    println(\"************************************************************************************************************************\")\n",
    "end"
   ]
  }
 ],
 "metadata": {
  "kernelspec": {
   "display_name": "Julia 1.8.1",
   "language": "julia",
   "name": "julia-1.8"
  },
  "language_info": {
   "file_extension": ".jl",
   "mimetype": "application/julia",
   "name": "julia",
   "version": "1.8.1"
  },
  "vscode": {
   "interpreter": {
    "hash": "748293322e54f5f9f164a0f7a8e5d096e27d214cf3efee43248b1fde0598a03c"
   }
  }
 },
 "nbformat": 4,
 "nbformat_minor": 2
}
